{
 "cells": [
  {
   "cell_type": "code",
   "execution_count": 78,
   "metadata": {},
   "outputs": [],
   "source": [
    "import folium\n",
    "from folium.plugins import BeautifyIcon\n",
    "import pandas as pd\n",
    "import openrouteservice as ors\n",
    "# import osmnx\n"
   ]
  },
  {
   "cell_type": "code",
   "execution_count": 79,
   "metadata": {},
   "outputs": [],
   "source": [
    "# constants\n",
    "API_KEY = '5b3ce3597851110001cf6248f7b397efa34d4ff7bc170e361ff89f0b'\n"
   ]
  },
  {
   "cell_type": "code",
   "execution_count": 80,
   "metadata": {},
   "outputs": [],
   "source": [
    "client = ors.Client(API_KEY)\n",
    "\n",
    "# ORS    = [lon, lat]\n",
    "# folium = [lat, lon]"
   ]
  },
  {
   "cell_type": "code",
   "execution_count": 81,
   "metadata": {},
   "outputs": [
    {
     "data": {
      "text/plain": [
       "{'geocoding': {'version': '0.2',\n",
       "  'attribution': 'https://openrouteservice.org/terms-of-service/#attribution-geocode',\n",
       "  'query': {'text': 'LS9 0BT',\n",
       "   'size': 10,\n",
       "   'private': False,\n",
       "   'lang': {'name': 'English',\n",
       "    'iso6391': 'en',\n",
       "    'iso6393': 'eng',\n",
       "    'via': 'default',\n",
       "    'defaulted': True},\n",
       "   'querySize': 20,\n",
       "   'parser': 'libpostal',\n",
       "   'parsed_text': {'postalcode': 'ls9 0bt'}},\n",
       "  'engine': {'name': 'Pelias', 'author': 'Mapzen', 'version': '1.0'},\n",
       "  'timestamp': 1712221851388},\n",
       " 'type': 'FeatureCollection',\n",
       " 'features': [{'type': 'Feature',\n",
       "   'geometry': {'type': 'Point', 'coordinates': [-1.517644, 53.789386]},\n",
       "   'properties': {'id': '470842435',\n",
       "    'gid': 'whosonfirst:postalcode:470842435',\n",
       "    'layer': 'postalcode',\n",
       "    'source': 'whosonfirst',\n",
       "    'source_id': '470842435',\n",
       "    'name': 'LS9 0BT',\n",
       "    'postalcode': 'LS9 0BT',\n",
       "    'postalcode_gid': 'whosonfirst:postalcode:470842435',\n",
       "    'confidence': 1,\n",
       "    'match_type': 'exact',\n",
       "    'accuracy': 'centroid',\n",
       "    'country': 'United Kingdom',\n",
       "    'country_gid': 'whosonfirst:country:85633159',\n",
       "    'country_a': 'GBR',\n",
       "    'macroregion': 'England',\n",
       "    'macroregion_gid': 'whosonfirst:macroregion:404227469',\n",
       "    'region': 'West Yorkshire',\n",
       "    'region_gid': 'whosonfirst:region:1360698609',\n",
       "    'county': 'Leeds',\n",
       "    'county_gid': 'whosonfirst:county:1360698749',\n",
       "    'locality': 'Leeds',\n",
       "    'locality_gid': 'whosonfirst:locality:101750579',\n",
       "    'continent': 'Europe',\n",
       "    'continent_gid': 'whosonfirst:continent:102191581',\n",
       "    'label': 'LS9 0BT, Leeds, England, United Kingdom',\n",
       "    'addendum': {'concordances': {'gp:id': '27526862'}}},\n",
       "   'bbox': [-1.517644, 53.789386, -1.517644, 53.789386]}],\n",
       " 'bbox': [-1.517644, 53.789386, -1.517644, 53.789386]}"
      ]
     },
     "execution_count": 81,
     "metadata": {},
     "output_type": "execute_result"
    }
   ],
   "source": [
    "# get map data of 'LS9 0BT' in osm format.\n",
    "postcode = \"LS9 0BT\"\n",
    "response = client.pelias_search(text=postcode)\n",
    "response"
   ]
  },
  {
   "cell_type": "code",
   "execution_count": 82,
   "metadata": {},
   "outputs": [],
   "source": [
    "depot = [53.789386682283094, -1.5176446891452429]\n",
    "\n",
    "# reverse this before ORS API call"
   ]
  },
  {
   "cell_type": "code",
   "execution_count": 83,
   "metadata": {},
   "outputs": [
    {
     "data": {
      "text/html": [
       "<div style=\"width:100%;\"><div style=\"position:relative;width:100%;height:0;padding-bottom:60%;\"><span style=\"color:#565656\">Make this Notebook Trusted to load map: File -> Trust Notebook</span><iframe srcdoc=\"&lt;!DOCTYPE html&gt;\n",
       "&lt;html&gt;\n",
       "&lt;head&gt;\n",
       "    \n",
       "    &lt;meta http-equiv=&quot;content-type&quot; content=&quot;text/html; charset=UTF-8&quot; /&gt;\n",
       "    \n",
       "        &lt;script&gt;\n",
       "            L_NO_TOUCH = false;\n",
       "            L_DISABLE_3D = false;\n",
       "        &lt;/script&gt;\n",
       "    \n",
       "    &lt;style&gt;html, body {width: 100%;height: 100%;margin: 0;padding: 0;}&lt;/style&gt;\n",
       "    &lt;style&gt;#map {position:absolute;top:0;bottom:0;right:0;left:0;}&lt;/style&gt;\n",
       "    &lt;script src=&quot;https://cdn.jsdelivr.net/npm/leaflet@1.9.3/dist/leaflet.js&quot;&gt;&lt;/script&gt;\n",
       "    &lt;script src=&quot;https://code.jquery.com/jquery-3.7.1.min.js&quot;&gt;&lt;/script&gt;\n",
       "    &lt;script src=&quot;https://cdn.jsdelivr.net/npm/bootstrap@5.2.2/dist/js/bootstrap.bundle.min.js&quot;&gt;&lt;/script&gt;\n",
       "    &lt;script src=&quot;https://cdnjs.cloudflare.com/ajax/libs/Leaflet.awesome-markers/2.0.2/leaflet.awesome-markers.js&quot;&gt;&lt;/script&gt;\n",
       "    &lt;link rel=&quot;stylesheet&quot; href=&quot;https://cdn.jsdelivr.net/npm/leaflet@1.9.3/dist/leaflet.css&quot;/&gt;\n",
       "    &lt;link rel=&quot;stylesheet&quot; href=&quot;https://cdn.jsdelivr.net/npm/bootstrap@5.2.2/dist/css/bootstrap.min.css&quot;/&gt;\n",
       "    &lt;link rel=&quot;stylesheet&quot; href=&quot;https://netdna.bootstrapcdn.com/bootstrap/3.0.0/css/bootstrap.min.css&quot;/&gt;\n",
       "    &lt;link rel=&quot;stylesheet&quot; href=&quot;https://cdn.jsdelivr.net/npm/@fortawesome/fontawesome-free@6.2.0/css/all.min.css&quot;/&gt;\n",
       "    &lt;link rel=&quot;stylesheet&quot; href=&quot;https://cdnjs.cloudflare.com/ajax/libs/Leaflet.awesome-markers/2.0.2/leaflet.awesome-markers.css&quot;/&gt;\n",
       "    &lt;link rel=&quot;stylesheet&quot; href=&quot;https://cdn.jsdelivr.net/gh/python-visualization/folium/folium/templates/leaflet.awesome.rotate.min.css&quot;/&gt;\n",
       "    \n",
       "            &lt;meta name=&quot;viewport&quot; content=&quot;width=device-width,\n",
       "                initial-scale=1.0, maximum-scale=1.0, user-scalable=no&quot; /&gt;\n",
       "            &lt;style&gt;\n",
       "                #map_cbebc553aa3cb59aa60413cca3f13e1a {\n",
       "                    position: relative;\n",
       "                    width: 100.0%;\n",
       "                    height: 100.0%;\n",
       "                    left: 0.0%;\n",
       "                    top: 0.0%;\n",
       "                }\n",
       "                .leaflet-container { font-size: 1rem; }\n",
       "            &lt;/style&gt;\n",
       "        \n",
       "&lt;/head&gt;\n",
       "&lt;body&gt;\n",
       "    \n",
       "    \n",
       "            &lt;div class=&quot;folium-map&quot; id=&quot;map_cbebc553aa3cb59aa60413cca3f13e1a&quot; &gt;&lt;/div&gt;\n",
       "        \n",
       "&lt;/body&gt;\n",
       "&lt;script&gt;\n",
       "    \n",
       "    \n",
       "            var map_cbebc553aa3cb59aa60413cca3f13e1a = L.map(\n",
       "                &quot;map_cbebc553aa3cb59aa60413cca3f13e1a&quot;,\n",
       "                {\n",
       "                    center: [53.789386, -1.517644],\n",
       "                    crs: L.CRS.EPSG3857,\n",
       "                    zoom: 16,\n",
       "                    zoomControl: true,\n",
       "                    preferCanvas: false,\n",
       "                }\n",
       "            );\n",
       "\n",
       "            \n",
       "\n",
       "        \n",
       "    \n",
       "            var tile_layer_d4a6c555a329e23d4412344d1136e83c = L.tileLayer(\n",
       "                &quot;https://tile.openstreetmap.org/{z}/{x}/{y}.png&quot;,\n",
       "                {&quot;attribution&quot;: &quot;\\u0026copy; \\u003ca href=\\&quot;https://www.openstreetmap.org/copyright\\&quot;\\u003eOpenStreetMap\\u003c/a\\u003e contributors&quot;, &quot;detectRetina&quot;: false, &quot;maxNativeZoom&quot;: 19, &quot;maxZoom&quot;: 19, &quot;minZoom&quot;: 0, &quot;noWrap&quot;: false, &quot;opacity&quot;: 1, &quot;subdomains&quot;: &quot;abc&quot;, &quot;tms&quot;: false}\n",
       "            );\n",
       "        \n",
       "    \n",
       "            tile_layer_d4a6c555a329e23d4412344d1136e83c.addTo(map_cbebc553aa3cb59aa60413cca3f13e1a);\n",
       "        \n",
       "&lt;/script&gt;\n",
       "&lt;/html&gt;\" style=\"position:absolute;width:100%;height:100%;left:0;top:0;border:none !important;\" allowfullscreen webkitallowfullscreen mozallowfullscreen></iframe></div></div>"
      ],
      "text/plain": [
       "<folium.folium.Map at 0x14f66c610>"
      ]
     },
     "execution_count": 83,
     "metadata": {},
     "output_type": "execute_result"
    }
   ],
   "source": [
    "m = folium.Map(location=list(reversed(response['features'][0]['geometry']['coordinates'])), zoom_start=16)\n",
    "m"
   ]
  },
  {
   "cell_type": "code",
   "execution_count": 84,
   "metadata": {},
   "outputs": [
    {
     "data": {
      "text/html": [
       "<div>\n",
       "<style scoped>\n",
       "    .dataframe tbody tr th:only-of-type {\n",
       "        vertical-align: middle;\n",
       "    }\n",
       "\n",
       "    .dataframe tbody tr th {\n",
       "        vertical-align: top;\n",
       "    }\n",
       "\n",
       "    .dataframe thead th {\n",
       "        text-align: right;\n",
       "    }\n",
       "</style>\n",
       "<table border=\"1\" class=\"dataframe\">\n",
       "  <thead>\n",
       "    <tr style=\"text-align: right;\">\n",
       "      <th></th>\n",
       "      <th>type</th>\n",
       "      <th>features</th>\n",
       "    </tr>\n",
       "  </thead>\n",
       "  <tbody>\n",
       "    <tr>\n",
       "      <th>0</th>\n",
       "      <td>FeatureCollection</td>\n",
       "      <td>{'type': 'Feature', 'properties': {'defect': '...</td>\n",
       "    </tr>\n",
       "  </tbody>\n",
       "</table>\n",
       "</div>"
      ],
      "text/plain": [
       "                type                                           features\n",
       "0  FeatureCollection  {'type': 'Feature', 'properties': {'defect': '..."
      ]
     },
     "execution_count": 84,
     "metadata": {},
     "output_type": "execute_result"
    }
   ],
   "source": [
    "# get pothole data (for this region)\n",
    "pothole_data = pd.read_json(r'./data/one_hole.json')\n",
    "pothole_data"
   ]
  },
  {
   "cell_type": "code",
   "execution_count": 37,
   "metadata": {},
   "outputs": [
    {
     "data": {
      "text/html": [
       "<div>\n",
       "<style scoped>\n",
       "    .dataframe tbody tr th:only-of-type {\n",
       "        vertical-align: middle;\n",
       "    }\n",
       "\n",
       "    .dataframe tbody tr th {\n",
       "        vertical-align: top;\n",
       "    }\n",
       "\n",
       "    .dataframe thead th {\n",
       "        text-align: right;\n",
       "    }\n",
       "</style>\n",
       "<table border=\"1\" class=\"dataframe\">\n",
       "  <thead>\n",
       "    <tr style=\"text-align: right;\">\n",
       "      <th></th>\n",
       "      <th>type</th>\n",
       "      <th>feature</th>\n",
       "    </tr>\n",
       "  </thead>\n",
       "  <tbody>\n",
       "    <tr>\n",
       "      <th>0</th>\n",
       "      <td>FeatureCollection</td>\n",
       "      <td>type</td>\n",
       "    </tr>\n",
       "    <tr>\n",
       "      <th>1</th>\n",
       "      <td>FeatureCollection</td>\n",
       "      <td>properties</td>\n",
       "    </tr>\n",
       "    <tr>\n",
       "      <th>2</th>\n",
       "      <td>FeatureCollection</td>\n",
       "      <td>geometry</td>\n",
       "    </tr>\n",
       "    <tr>\n",
       "      <th>3</th>\n",
       "      <td>FeatureCollection</td>\n",
       "      <td>id</td>\n",
       "    </tr>\n",
       "  </tbody>\n",
       "</table>\n",
       "</div>"
      ],
      "text/plain": [
       "                type     feature\n",
       "0  FeatureCollection        type\n",
       "1  FeatureCollection  properties\n",
       "2  FeatureCollection    geometry\n",
       "3  FeatureCollection          id"
      ]
     },
     "execution_count": 37,
     "metadata": {},
     "output_type": "execute_result"
    }
   ],
   "source": [
    "# posexplode the json to create a df enlisting all defects\n",
    "\n",
    "# df = pothole_data.explode(\"features\", ignore_index=True)\n",
    "# df.rename('features'})\n",
    "# df"
   ]
  },
  {
   "cell_type": "code",
   "execution_count": 85,
   "metadata": {},
   "outputs": [
    {
     "name": "stdout",
     "output_type": "stream",
     "text": [
      "pothole: id: 0 : dim: 1x0.5x0.2\n",
      "coordinates: [-1.520265301435614, 53.78860942921949]\n"
     ]
    },
    {
     "data": {
      "text/plain": [
       "[{'location': [-1.520265301435614, 53.78860942921949], 'service': 600}]"
      ]
     },
     "execution_count": 85,
     "metadata": {},
     "output_type": "execute_result"
    }
   ],
   "source": [
    "# fetch coords of the potholes\n",
    "coords = []\n",
    "coords_id = 0\n",
    "\n",
    "for feature in pothole_data['features']:\n",
    "    if feature['properties']['defect'] == 'pothole':\n",
    "        print('pothole: id:', feature['id'], ': dim:', feature['properties']['dim'])\n",
    "        print ('coordinates:', feature['geometry']['coordinates'])\n",
    "        coords.append({})\n",
    "        coords[coords_id]['location'] = feature['geometry']['coordinates']\n",
    "        coords[coords_id]['service'] = 10*60 # 10min\n",
    "        coords_id += 1\n",
    "\n",
    "coords"
   ]
  },
  {
   "cell_type": "code",
   "execution_count": 86,
   "metadata": {},
   "outputs": [
    {
     "data": {
      "text/plain": [
       "[<openrouteservice.optimization.Vehicle at 0x152258fd0>]"
      ]
     },
     "execution_count": 86,
     "metadata": {},
     "output_type": "execute_result"
    }
   ],
   "source": [
    "# define a vehicle in the fleet\n",
    "vehicles = [\n",
    "    ors.optimization.Vehicle(\n",
    "        id=0, \n",
    "        profile='driving-car', \n",
    "        start=list(reversed(depot)), \n",
    "        # time_window=[0, 5*60*60], \n",
    "        end=list(reversed(depot))\n",
    "        # capacity=[5]\n",
    "    )\n",
    "]\n",
    "\n",
    "vehicles"
   ]
  },
  {
   "cell_type": "code",
   "execution_count": 87,
   "metadata": {},
   "outputs": [
    {
     "data": {
      "text/plain": [
       "[<openrouteservice.optimization.Job at 0x14f66f910>]"
      ]
     },
     "execution_count": 87,
     "metadata": {},
     "output_type": "execute_result"
    }
   ],
   "source": [
    "jobs = [\n",
    "    ors.optimization.Job(\n",
    "        id=index, **job\n",
    "    ) for index, job in enumerate(coords)\n",
    "]\n",
    "\n",
    "jobs"
   ]
  },
  {
   "cell_type": "code",
   "execution_count": 88,
   "metadata": {},
   "outputs": [
    {
     "data": {
      "text/plain": [
       "{'code': 0,\n",
       " 'summary': {'cost': 148,\n",
       "  'routes': 1,\n",
       "  'unassigned': 0,\n",
       "  'setup': 0,\n",
       "  'service': 600,\n",
       "  'duration': 148,\n",
       "  'waiting_time': 0,\n",
       "  'priority': 0,\n",
       "  'distance': 860,\n",
       "  'violations': [],\n",
       "  'computing_times': {'loading': 99, 'solving': 45, 'routing': 23}},\n",
       " 'unassigned': [],\n",
       " 'routes': [{'vehicle': 0,\n",
       "   'cost': 148,\n",
       "   'setup': 0,\n",
       "   'service': 600,\n",
       "   'duration': 148,\n",
       "   'waiting_time': 0,\n",
       "   'priority': 0,\n",
       "   'distance': 860,\n",
       "   'steps': [{'type': 'start',\n",
       "     'location': [-1.5176446891452429, 53.789386682283094],\n",
       "     'setup': 0,\n",
       "     'service': 0,\n",
       "     'waiting_time': 0,\n",
       "     'arrival': 0,\n",
       "     'duration': 0,\n",
       "     'violations': [],\n",
       "     'distance': 0},\n",
       "    {'type': 'job',\n",
       "     'location': [-1.520265301435614, 53.78860942921949],\n",
       "     'id': 0,\n",
       "     'setup': 0,\n",
       "     'service': 600,\n",
       "     'waiting_time': 0,\n",
       "     'job': 0,\n",
       "     'arrival': 74,\n",
       "     'duration': 74,\n",
       "     'violations': [],\n",
       "     'distance': 430},\n",
       "    {'type': 'end',\n",
       "     'location': [-1.5176446891452429, 53.789386682283094],\n",
       "     'setup': 0,\n",
       "     'service': 0,\n",
       "     'waiting_time': 0,\n",
       "     'arrival': 748,\n",
       "     'duration': 148,\n",
       "     'violations': [],\n",
       "     'distance': 860}],\n",
       "   'violations': [],\n",
       "   'geometry': 'cvhgIfmgHNYf@_AFK\\\\o@f@_AHNz@|BPx@DbBAbDE~He@]i@e@?G?Fh@d@d@\\\\D_I@cDEcBQy@{@}BIOg@~@]n@GJg@~@OX'}]}"
      ]
     },
     "execution_count": 88,
     "metadata": {},
     "output_type": "execute_result"
    }
   ],
   "source": [
    "# starting from point A (depot) plan route for point B (pothole location).\n",
    "optimized = client.optimization(jobs=jobs, vehicles=vehicles, geometry=True)\n",
    "\n",
    "optimized"
   ]
  },
  {
   "cell_type": "code",
   "execution_count": 89,
   "metadata": {},
   "outputs": [
    {
     "data": {
      "text/plain": [
       "[[-1.5178, 53.7893],\n",
       " [-1.51767, 53.78922],\n",
       " [-1.51735, 53.78902],\n",
       " [-1.51729, 53.78898],\n",
       " [-1.51705, 53.78883],\n",
       " [-1.51673, 53.78863],\n",
       " [-1.51681, 53.78858],\n",
       " [-1.51744, 53.78828],\n",
       " [-1.51773, 53.78819],\n",
       " [-1.51823, 53.78816],\n",
       " [-1.51905, 53.78817],\n",
       " [-1.52065, 53.7882],\n",
       " [-1.5205, 53.78839],\n",
       " [-1.52031, 53.7886],\n",
       " [-1.52027, 53.7886],\n",
       " [-1.52031, 53.7886],\n",
       " [-1.5205, 53.78839],\n",
       " [-1.52065, 53.7882],\n",
       " [-1.51905, 53.78817],\n",
       " [-1.51823, 53.78816],\n",
       " [-1.51773, 53.78819],\n",
       " [-1.51744, 53.78828],\n",
       " [-1.51681, 53.78858],\n",
       " [-1.51673, 53.78863],\n",
       " [-1.51705, 53.78883],\n",
       " [-1.51729, 53.78898],\n",
       " [-1.51735, 53.78902],\n",
       " [-1.51767, 53.78922],\n",
       " [-1.5178, 53.7893]]"
      ]
     },
     "execution_count": 89,
     "metadata": {},
     "output_type": "execute_result"
    }
   ],
   "source": [
    "# extract route, decode polyLine geometry to get coordinates of every node/edge.\n",
    "\n",
    "for route in optimized['routes']:\n",
    "# has 3 steps:\n",
    "    # 1. start\n",
    "    # 2. job\n",
    "    # 3. end\n",
    "    geo = route['geometry']\n",
    "    route_v0 = ors.convert.decode_polyline(route['geometry'])['coordinates']\n",
    "\n",
    "route_v0"
   ]
  },
  {
   "cell_type": "code",
   "execution_count": 90,
   "metadata": {},
   "outputs": [
    {
     "data": {
      "text/plain": [
       "'cvhgIfmgHNYf@_AFK\\\\o@f@_AHNz@|BPx@DbBAbDE~He@]i@e@?G?Fh@d@d@\\\\D_I@cDEcBQy@{@}BIOg@~@]n@GJg@~@OX'"
      ]
     },
     "execution_count": 90,
     "metadata": {},
     "output_type": "execute_result"
    }
   ],
   "source": [
    "geo"
   ]
  },
  {
   "cell_type": "code",
   "execution_count": 91,
   "metadata": {},
   "outputs": [
    {
     "data": {
      "text/html": [
       "<div style=\"width:100%;\"><div style=\"position:relative;width:100%;height:0;padding-bottom:60%;\"><span style=\"color:#565656\">Make this Notebook Trusted to load map: File -> Trust Notebook</span><iframe srcdoc=\"&lt;!DOCTYPE html&gt;\n",
       "&lt;html&gt;\n",
       "&lt;head&gt;\n",
       "    \n",
       "    &lt;meta http-equiv=&quot;content-type&quot; content=&quot;text/html; charset=UTF-8&quot; /&gt;\n",
       "    \n",
       "        &lt;script&gt;\n",
       "            L_NO_TOUCH = false;\n",
       "            L_DISABLE_3D = false;\n",
       "        &lt;/script&gt;\n",
       "    \n",
       "    &lt;style&gt;html, body {width: 100%;height: 100%;margin: 0;padding: 0;}&lt;/style&gt;\n",
       "    &lt;style&gt;#map {position:absolute;top:0;bottom:0;right:0;left:0;}&lt;/style&gt;\n",
       "    &lt;script src=&quot;https://cdn.jsdelivr.net/npm/leaflet@1.9.3/dist/leaflet.js&quot;&gt;&lt;/script&gt;\n",
       "    &lt;script src=&quot;https://code.jquery.com/jquery-3.7.1.min.js&quot;&gt;&lt;/script&gt;\n",
       "    &lt;script src=&quot;https://cdn.jsdelivr.net/npm/bootstrap@5.2.2/dist/js/bootstrap.bundle.min.js&quot;&gt;&lt;/script&gt;\n",
       "    &lt;script src=&quot;https://cdnjs.cloudflare.com/ajax/libs/Leaflet.awesome-markers/2.0.2/leaflet.awesome-markers.js&quot;&gt;&lt;/script&gt;\n",
       "    &lt;link rel=&quot;stylesheet&quot; href=&quot;https://cdn.jsdelivr.net/npm/leaflet@1.9.3/dist/leaflet.css&quot;/&gt;\n",
       "    &lt;link rel=&quot;stylesheet&quot; href=&quot;https://cdn.jsdelivr.net/npm/bootstrap@5.2.2/dist/css/bootstrap.min.css&quot;/&gt;\n",
       "    &lt;link rel=&quot;stylesheet&quot; href=&quot;https://netdna.bootstrapcdn.com/bootstrap/3.0.0/css/bootstrap.min.css&quot;/&gt;\n",
       "    &lt;link rel=&quot;stylesheet&quot; href=&quot;https://cdn.jsdelivr.net/npm/@fortawesome/fontawesome-free@6.2.0/css/all.min.css&quot;/&gt;\n",
       "    &lt;link rel=&quot;stylesheet&quot; href=&quot;https://cdnjs.cloudflare.com/ajax/libs/Leaflet.awesome-markers/2.0.2/leaflet.awesome-markers.css&quot;/&gt;\n",
       "    &lt;link rel=&quot;stylesheet&quot; href=&quot;https://cdn.jsdelivr.net/gh/python-visualization/folium/folium/templates/leaflet.awesome.rotate.min.css&quot;/&gt;\n",
       "    \n",
       "            &lt;meta name=&quot;viewport&quot; content=&quot;width=device-width,\n",
       "                initial-scale=1.0, maximum-scale=1.0, user-scalable=no&quot; /&gt;\n",
       "            &lt;style&gt;\n",
       "                #map_cbebc553aa3cb59aa60413cca3f13e1a {\n",
       "                    position: relative;\n",
       "                    width: 100.0%;\n",
       "                    height: 100.0%;\n",
       "                    left: 0.0%;\n",
       "                    top: 0.0%;\n",
       "                }\n",
       "                .leaflet-container { font-size: 1rem; }\n",
       "            &lt;/style&gt;\n",
       "        \n",
       "&lt;/head&gt;\n",
       "&lt;body&gt;\n",
       "    \n",
       "    \n",
       "            &lt;div class=&quot;folium-map&quot; id=&quot;map_cbebc553aa3cb59aa60413cca3f13e1a&quot; &gt;&lt;/div&gt;\n",
       "        \n",
       "&lt;/body&gt;\n",
       "&lt;script&gt;\n",
       "    \n",
       "    \n",
       "            var map_cbebc553aa3cb59aa60413cca3f13e1a = L.map(\n",
       "                &quot;map_cbebc553aa3cb59aa60413cca3f13e1a&quot;,\n",
       "                {\n",
       "                    center: [53.789386, -1.517644],\n",
       "                    crs: L.CRS.EPSG3857,\n",
       "                    zoom: 16,\n",
       "                    zoomControl: true,\n",
       "                    preferCanvas: false,\n",
       "                }\n",
       "            );\n",
       "\n",
       "            \n",
       "\n",
       "        \n",
       "    \n",
       "            var tile_layer_d4a6c555a329e23d4412344d1136e83c = L.tileLayer(\n",
       "                &quot;https://tile.openstreetmap.org/{z}/{x}/{y}.png&quot;,\n",
       "                {&quot;attribution&quot;: &quot;\\u0026copy; \\u003ca href=\\&quot;https://www.openstreetmap.org/copyright\\&quot;\\u003eOpenStreetMap\\u003c/a\\u003e contributors&quot;, &quot;detectRetina&quot;: false, &quot;maxNativeZoom&quot;: 19, &quot;maxZoom&quot;: 19, &quot;minZoom&quot;: 0, &quot;noWrap&quot;: false, &quot;opacity&quot;: 1, &quot;subdomains&quot;: &quot;abc&quot;, &quot;tms&quot;: false}\n",
       "            );\n",
       "        \n",
       "    \n",
       "            tile_layer_d4a6c555a329e23d4412344d1136e83c.addTo(map_cbebc553aa3cb59aa60413cca3f13e1a);\n",
       "        \n",
       "    \n",
       "            tile_layer_d4a6c555a329e23d4412344d1136e83c.addTo(map_cbebc553aa3cb59aa60413cca3f13e1a);\n",
       "        \n",
       "    \n",
       "            var poly_line_639fdf65af4628ca508fd6f7353b452b = L.polyline(\n",
       "                [[53.7893, -1.5178], [53.78922, -1.51767], [53.78902, -1.51735], [53.78898, -1.51729], [53.78883, -1.51705], [53.78863, -1.51673], [53.78858, -1.51681], [53.78828, -1.51744], [53.78819, -1.51773], [53.78816, -1.51823], [53.78817, -1.51905], [53.7882, -1.52065], [53.78839, -1.5205], [53.7886, -1.52031], [53.7886, -1.52027], [53.7886, -1.52031], [53.78839, -1.5205], [53.7882, -1.52065], [53.78817, -1.51905], [53.78816, -1.51823], [53.78819, -1.51773], [53.78828, -1.51744], [53.78858, -1.51681], [53.78863, -1.51673], [53.78883, -1.51705], [53.78898, -1.51729], [53.78902, -1.51735], [53.78922, -1.51767], [53.7893, -1.5178]],\n",
       "                {&quot;bubblingMouseEvents&quot;: true, &quot;color&quot;: &quot;orange&quot;, &quot;dashArray&quot;: null, &quot;dashOffset&quot;: null, &quot;fill&quot;: false, &quot;fillColor&quot;: &quot;orange&quot;, &quot;fillOpacity&quot;: 0.2, &quot;fillRule&quot;: &quot;evenodd&quot;, &quot;lineCap&quot;: &quot;round&quot;, &quot;lineJoin&quot;: &quot;round&quot;, &quot;noClip&quot;: false, &quot;opacity&quot;: 1.0, &quot;smoothFactor&quot;: 1.0, &quot;stroke&quot;: true, &quot;weight&quot;: 6}\n",
       "            ).addTo(map_cbebc553aa3cb59aa60413cca3f13e1a);\n",
       "        \n",
       "&lt;/script&gt;\n",
       "&lt;/html&gt;\" style=\"position:absolute;width:100%;height:100%;left:0;top:0;border:none !important;\" allowfullscreen webkitallowfullscreen mozallowfullscreen></iframe></div></div>"
      ],
      "text/plain": [
       "<folium.folium.Map at 0x14f66c610>"
      ]
     },
     "execution_count": 91,
     "metadata": {},
     "output_type": "execute_result"
    }
   ],
   "source": [
    "# visualise it in folium map\n",
    "\n",
    "line_colours = ['orange', 'blue', 'green', 'pink', 'yellow']\n",
    "\n",
    "for route in optimized['routes']:\n",
    "    folium.PolyLine(locations=[list(reversed(coords)) for coords in ors.convert.decode_polyline(route['geometry'])['coordinates']], weight=2*(3-route['vehicle']), color=line_colours[route['vehicle']]).add_to(m)\n",
    "\n",
    "m"
   ]
  },
  {
   "cell_type": "code",
   "execution_count": null,
   "metadata": {},
   "outputs": [],
   "source": [
    "# download osm file\n"
   ]
  },
  {
   "cell_type": "code",
   "execution_count": 8,
   "metadata": {},
   "outputs": [],
   "source": [
    "# print the route json/xml\n"
   ]
  },
  {
   "cell_type": "code",
   "execution_count": 9,
   "metadata": {},
   "outputs": [],
   "source": [
    "# extract the geometry information (polyLine)"
   ]
  },
  {
   "cell_type": "code",
   "execution_count": 100,
   "metadata": {},
   "outputs": [
    {
     "ename": "AttributeError",
     "evalue": "'Net' object has no attribute 'getNearestEdgeID'",
     "output_type": "error",
     "traceback": [
      "\u001b[0;31m---------------------------------------------------------------------------\u001b[0m",
      "\u001b[0;31mAttributeError\u001b[0m                            Traceback (most recent call last)",
      "Cell \u001b[0;32mIn[100], line 52\u001b[0m\n\u001b[1;32m     49\u001b[0m end_lon \u001b[38;5;241m=\u001b[39m \u001b[38;5;241m-\u001b[39m\u001b[38;5;241m1.5178\u001b[39m\n\u001b[1;32m     50\u001b[0m trip_file \u001b[38;5;241m=\u001b[39m \u001b[38;5;124m\"\u001b[39m\u001b[38;5;124mosm_sumo_final/sumo.trip.xml\u001b[39m\u001b[38;5;124m\"\u001b[39m\n\u001b[0;32m---> 52\u001b[0m \u001b[43mcreate_trip_file\u001b[49m\u001b[43m(\u001b[49m\u001b[43mnet_file\u001b[49m\u001b[43m,\u001b[49m\u001b[43m \u001b[49m\u001b[43mstart_lat\u001b[49m\u001b[43m,\u001b[49m\u001b[43m \u001b[49m\u001b[43mstart_lon\u001b[49m\u001b[43m,\u001b[49m\u001b[43m \u001b[49m\u001b[43mend_lat\u001b[49m\u001b[43m,\u001b[49m\u001b[43m \u001b[49m\u001b[43mend_lon\u001b[49m\u001b[43m,\u001b[49m\u001b[43m \u001b[49m\u001b[43mtrip_file\u001b[49m\u001b[43m)\u001b[49m\n",
      "Cell \u001b[0;32mIn[100], line 28\u001b[0m, in \u001b[0;36mcreate_trip_file\u001b[0;34m(net_file, start_lat, start_lon, end_lat, end_lon, trip_file)\u001b[0m\n\u001b[1;32m     25\u001b[0m net \u001b[38;5;241m=\u001b[39m sumolib\u001b[38;5;241m.\u001b[39mnet\u001b[38;5;241m.\u001b[39mreadNet(net_file)\n\u001b[1;32m     27\u001b[0m \u001b[38;5;66;03m# Find closest edges to start and end points (assuming UTM projection)\u001b[39;00m\n\u001b[0;32m---> 28\u001b[0m start_node \u001b[38;5;241m=\u001b[39m \u001b[43mnet\u001b[49m\u001b[38;5;241;43m.\u001b[39;49m\u001b[43mgetNearestEdgeID\u001b[49m(start_lon, start_lat)[\u001b[38;5;241m0\u001b[39m]\u001b[38;5;241m.\u001b[39msplit(\u001b[38;5;124m\"\u001b[39m\u001b[38;5;124m_\u001b[39m\u001b[38;5;124m\"\u001b[39m)[\u001b[38;5;241m0\u001b[39m]\n\u001b[1;32m     29\u001b[0m end_node \u001b[38;5;241m=\u001b[39m net\u001b[38;5;241m.\u001b[39mgetNearestLaneID(end_lon, end_lat)[\u001b[38;5;241m0\u001b[39m]\u001b[38;5;241m.\u001b[39msplit(\u001b[38;5;124m\"\u001b[39m\u001b[38;5;124m_\u001b[39m\u001b[38;5;124m\"\u001b[39m)[\u001b[38;5;241m0\u001b[39m]\n\u001b[1;32m     31\u001b[0m \u001b[38;5;66;03m# Create the trip definition (assuming one car)\u001b[39;00m\n",
      "\u001b[0;31mAttributeError\u001b[0m: 'Net' object has no attribute 'getNearestEdgeID'"
     ]
    }
   ],
   "source": [
    "# create sumo.trip.xml from point A and point B information\n",
    "import sumolib\n",
    "\n",
    "import os, sys\n",
    "if 'SUMO_HOME' in os.environ:\n",
    "    tools = os.path.join(os.environ['SUMO_HOME'], 'tools')\n",
    "    sys.path.append(tools)\n",
    "else:\n",
    "    sys.exit(\"please declare environment variable 'SUMO_HOME'\")\n",
    "\n",
    "\n",
    "# Example usage (replace with your actual file paths and coordinates)\n",
    "net_file = r\"osm_sumo_final/sumo_network.net.xml\"\n",
    "start_lat = 53.7893\n",
    "start_lon = -1.5178\n",
    "end_lat = 53.7893\n",
    "end_lon = -1.5178\n",
    "trip_file = \"osm_sumo_final/sumo.trip.xml\"\n",
    "\n",
    "create_trip_file(net_file, start_lat, start_lon, end_lat, end_lon, trip_file)\n"
   ]
  },
  {
   "cell_type": "code",
   "execution_count": 93,
   "metadata": {},
   "outputs": [
    {
     "name": "stdout",
     "output_type": "stream",
     "text": [
      "Success.\n",
      "SUMO network generated at ./sumo_network.net.xml\n"
     ]
    },
    {
     "name": "stderr",
     "output_type": "stream",
     "text": [
      "Warning: Could not set locale to 'C'.\n",
      "pj_obj_create: /opt/homebrew/Caskroom/miniforge/base/envs/myml/share/proj/proj.db contains DATABASE.LAYOUT.VERSION.MINOR = 2 whereas a number >= 3 is expected. It comes from another PROJ installation.\n",
      "pj_obj_create: /opt/homebrew/Caskroom/miniforge/base/envs/myml/share/proj/proj.db contains DATABASE.LAYOUT.VERSION.MINOR = 2 whereas a number >= 3 is expected. It comes from another PROJ installation.\n",
      "Warning: Found sharp turn with radius 6.97 at the end of edge '-23094477#1'.\n",
      "Warning: Found sharp turn with radius 8.81 at the start of edge '-619506569#4'.\n",
      "Warning: Found sharp turn with radius 6.99 at the end of edge '196489087#0'.\n",
      "Warning: Found sharp turn with radius 6.97 at the start of edge '23094477#1'.\n"
     ]
    }
   ],
   "source": [
    "import subprocess\n",
    "import os\n",
    "\n",
    "def generate_sumo_network(osm_file_path, output_directory):\n",
    "    # Check if SUMO_HOME is set\n",
    "    if \"SUMO_HOME\" not in os.environ:\n",
    "        raise EnvironmentError(\"SUMO_HOME environment variable not set\")\n",
    "\n",
    "    # Define the path to the netconvert tool\n",
    "    netconvert_binary = os.path.join(os.environ[\"SUMO_HOME\"], \"bin\", \"netconvert\")\n",
    "\n",
    "    # Define the output file path\n",
    "    output_file_path = os.path.join(output_directory, \"sumo_network.net.xml\")\n",
    "\n",
    "    # Command to convert OSM to SUMO network\n",
    "    netconvert_command = [\n",
    "        netconvert_binary,\n",
    "        \"--osm-files\", osm_file_path,\n",
    "        \"--output-file\", output_file_path,\n",
    "        \"--osm.all-attributes\", \"false\",\n",
    "        \"--plain-output-prefix\", os.path.join(output_directory, \"osm_net\")\n",
    "    ]\n",
    "\n",
    "    # Run the command\n",
    "    subprocess.run(netconvert_command, check=True)\n",
    "    print(f\"SUMO network generated at {output_file_path}\")\n",
    "\n",
    "# Set your OSM file path and desired output directory for the SUMO network files\n",
    "osm_file_path = r'/Users/shripal/Documents/Study/PathFinding/osm_sumo_final/LS90BT.osm'\n",
    "output_directory = '.'\n",
    "\n",
    "generate_sumo_network(osm_file_path, output_directory)\n"
   ]
  },
  {
   "cell_type": "code",
   "execution_count": null,
   "metadata": {},
   "outputs": [],
   "source": []
  },
  {
   "cell_type": "code",
   "execution_count": null,
   "metadata": {},
   "outputs": [
    {
     "name": "stdout",
     "output_type": "stream",
     "text": [
      "Converted polyline and written to sumo.rou.xml\n"
     ]
    }
   ],
   "source": [
    "### somehow this generated route file is not loading vehicles in the SUMO-GUI\n",
    "\n",
    "\n",
    "# import urllib\n",
    "\n",
    "# # Reference for urllib.parse.unquote: https://docs.python.org/3/library/urllib.parse.html\n",
    "# def convert_to_sumo_route(route_v0):\n",
    "#   \"\"\"Converts a decoded polyline into a SUMO route definition.\n",
    "\n",
    "#   Args:\n",
    "#       route_v0: A list of tuples containing latitude and longitude coordinates.\n",
    "\n",
    "#   Returns:\n",
    "#       A string representing the SUMO route definition in XML format.\n",
    "#   \"\"\"\n",
    "#   coords = urllib.parse.unquote(' '.join(['{},{}'.format(p[0], p[1]) for p in route_v0]))\n",
    "#   return f'<route id=\"route1\" edges=\"{coords}\">\\n  <vehicle id=\"veh1\" type=\"passenger\" depart=\"0\" route=\"route1\"/>\\n</route>'\n",
    "\n",
    "# # Convert the decoded polyline to SUMO route definition\n",
    "# route_xml = convert_to_sumo_route(route_v0)\n",
    "\n",
    "# # Write the route definition to sumo.rou.xml file\n",
    "# with open('sumo.rou.xml', 'w') as f:\n",
    "#   f.write(route_xml)\n",
    "\n",
    "# print(\"Converted polyline and written to sumo.rou.xml\")"
   ]
  },
  {
   "cell_type": "code",
   "execution_count": null,
   "metadata": {},
   "outputs": [],
   "source": []
  }
 ],
 "metadata": {
  "kernelspec": {
   "display_name": "myml",
   "language": "python",
   "name": "python3"
  },
  "language_info": {
   "codemirror_mode": {
    "name": "ipython",
    "version": 3
   },
   "file_extension": ".py",
   "mimetype": "text/x-python",
   "name": "python",
   "nbconvert_exporter": "python",
   "pygments_lexer": "ipython3",
   "version": "3.11.0"
  }
 },
 "nbformat": 4,
 "nbformat_minor": 2
}
