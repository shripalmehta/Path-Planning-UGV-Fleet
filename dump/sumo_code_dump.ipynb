{
 "cells": [
  {
   "cell_type": "markdown",
   "metadata": {},
   "source": [
    "<ul>\n",
    "<li>create a car robot in webots, on a OSM imported map world, and run it from point a to point b (use SUMO if required).\n",
    "<li>the OSM map-imported world is ready. points A and B are known in terms of their lat-lon coordinates. use the car's GPS coordinates to navigate along the path planned by OpenRouteService (ORS) API. \n",
    "<li>all programming should be done in python, robot controller logic as well.\n",
    "</ul>\n",
    "\n",
    "<b>main control-point of project building - </b>\n",
    "<ol>\n",
    "<li> OSM map-imported world in webots - done\n",
    "<li> create a car robot (can be imported) with a camera and GPS sensors.\n",
    "<li> get access to these sensors from python controller\n",
    "<li> log values fetched from these sensors.\n",
    "<li> for 2 points A and B, with their lat-long coordinates known, put 2 square manhole nodes on the webots world.\n",
    "<li> place our car robot on point A.\n",
    "<li> use ORS API (ORS account is created, API key is known) to plan a route from A to B.\n",
    "<li> drive the car from A to B using controller logic.\n",
    "<li> read GPS coordinates and log them every 3 basicTimeStep units.\n",
    "<li> upon arrival at point B, print a success message.\n",
    "</ol>"
   ]
  },
  {
   "cell_type": "markdown",
   "metadata": {},
   "source": [
    "### OSM Importer:"
   ]
  },
  {
   "cell_type": "code",
   "execution_count": 2,
   "metadata": {},
   "outputs": [
    {
     "data": {
      "text/plain": [
       "'/Applications/Webots.app'"
      ]
     },
     "execution_count": 2,
     "metadata": {},
     "output_type": "execute_result"
    }
   ],
   "source": [
    "import sys\n",
    "import os\n",
    "\n",
    "# Add the path to the osm_importer directory to sys.path\n",
    "webots_home = os.environ.get(\"WEBOTS_HOME\")\n",
    "webots_home"
   ]
  },
  {
   "cell_type": "code",
   "execution_count": null,
   "metadata": {},
   "outputs": [],
   "source": []
  },
  {
   "cell_type": "code",
   "execution_count": 3,
   "metadata": {},
   "outputs": [
    {
     "data": {
      "text/plain": [
       "['/Users/shripal/Documents/Study/PathFinding',\n",
       " '/opt/homebrew/Caskroom/miniforge/base/envs/myml/lib/python311.zip',\n",
       " '/opt/homebrew/Caskroom/miniforge/base/envs/myml/lib/python3.11',\n",
       " '/opt/homebrew/Caskroom/miniforge/base/envs/myml/lib/python3.11/lib-dynload',\n",
       " '',\n",
       " '/Users/shripal/.local/lib/python3.11/site-packages',\n",
       " '/opt/homebrew/Caskroom/miniforge/base/envs/myml/lib/python3.11/site-packages']"
      ]
     },
     "execution_count": 3,
     "metadata": {},
     "output_type": "execute_result"
    }
   ],
   "source": [
    "sys.path"
   ]
  },
  {
   "cell_type": "code",
   "execution_count": 4,
   "metadata": {},
   "outputs": [],
   "source": [
    "if webots_home:\n",
    "    importer_path = os.path.join(webots_home, \"Contents/Resources/osm_importer\")\n",
    "    sys.path.append(importer_path)"
   ]
  },
  {
   "cell_type": "code",
   "execution_count": 5,
   "metadata": {},
   "outputs": [
    {
     "data": {
      "text/plain": [
       "'/Users/shripal/Documents/Study/PathFinding'"
      ]
     },
     "execution_count": 5,
     "metadata": {},
     "output_type": "execute_result"
    }
   ],
   "source": [
    "cwd = os.getcwd()\n",
    "cwd"
   ]
  },
  {
   "cell_type": "code",
   "execution_count": 8,
   "metadata": {},
   "outputs": [
    {
     "name": "stdout",
     "output_type": "stream",
     "text": [
      "Warning: Failed to determine the country.\n",
      " * OSM filed parsed\n",
      "/opt/homebrew/Caskroom/miniforge/base/envs/myml/lib/python3.11/site-packages/shapely/constructive.py:181: RuntimeWarning: invalid value encountered in buffer\n",
      "  return lib.buffer(\n",
      "/opt/homebrew/Caskroom/miniforge/base/envs/myml/lib/python3.11/site-packages/shapely/predicates.py:798: RuntimeWarning: invalid value encountered in intersects\n",
      "  return lib.intersects(a, b, **kwargs)\n",
      "/opt/homebrew/Caskroom/miniforge/base/envs/myml/lib/python3.11/site-packages/shapely/set_operations.py:340: RuntimeWarning: invalid value encountered in union\n",
      "  return lib.union(a, b, **kwargs)\n",
      "/opt/homebrew/Caskroom/miniforge/base/envs/myml/lib/python3.11/site-packages/shapely/set_operations.py:77: RuntimeWarning: invalid value encountered in difference\n",
      "  return lib.difference(a, b, **kwargs)\n",
      "/opt/homebrew/Caskroom/miniforge/base/envs/myml/lib/python3.11/site-packages/shapely/set_operations.py:133: RuntimeWarning: invalid value encountered in intersection\n",
      "  return lib.intersection(a, b, **kwargs)\n",
      " * 8 roads generated\n",
      " * 3 crossroads generated\n",
      " * 7 buildings generated\n",
      " * 0 trees generated\n",
      " * 0 barriers generated\n",
      " * 0 rivers generated\n",
      " * 0 areas (forest, water, farmland, etc.) generated\n",
      " * 0 parking lines generated\n",
      " * map centered with this offset: 597688.9557553732,5961054.494951401).\n",
      " * reference coordinates: 53.788895,-1.5171350000000001.\n",
      " * projection used: '+proj=utm +north +zone=30 +lon_0=-1.517135 +lat_0=53.788895 +x_0=0 +y_0=0 +ellps=WGS84 +units=m +no_defs'.\n",
      "Done.\n",
      "HP_plot.png                        oproad_esri_gb.zip\n",
      "LS90BT_potholes_large.json         \u001b[1m\u001b[36moproad_gml3_gb\u001b[m\u001b[m\n",
      "LS90BT_potholes_small.json         oproad_gml3_gb.zip\n",
      "NI.jpeg                            oproad_gpkg_gb.zip\n",
      "Pothole_Enquiries_Current_Year.CSV small_map.osm\n",
      "\u001b[1m\u001b[36moproad_esri_gb\u001b[m\u001b[m\n",
      "LS90BT_map.wbt                    \u001b[1m\u001b[36mdata\u001b[m\u001b[m\n",
      "\u001b[1m\u001b[36mLS90BT_webots\u001b[m\u001b[m                     fleet_scheduling.ipynb\n",
      "Notes.csv                         path_planner.ipynb\n",
      "PathFinding.code-workspace        project-flow.docx\n",
      "PotholeRepairSystem.drawio        read_data_esri.ipynb\n",
      "README.md                         \u001b[1m\u001b[36msmall_world\u001b[m\u001b[m\n",
      "Shripal - final Project Plan.docx small_world_4.wbt\n",
      "VROOM_docs.ipynb                  \u001b[1m\u001b[36msrc\u001b[m\u001b[m\n",
      "code_dump.ipynb                   todo-planner.docx\n",
      "copilot_solution.py               ~$ripal - final Project Plan.docx\n"
     ]
    }
   ],
   "source": [
    "# !cd importer_path\n",
    "!python3 $importer_path/importer.py --input=./data/small_map.osm --output=./small_world/worlds/small_world_4.wbt\n",
    "!ls $cwd/data\n",
    "!ls $cwd"
   ]
  },
  {
   "cell_type": "markdown",
   "metadata": {},
   "source": [
    "### SUMO Exporter:"
   ]
  },
  {
   "cell_type": "code",
   "execution_count": null,
   "metadata": {},
   "outputs": [],
   "source": [
    "# create variable WBT_PROJECT_PATH for Project Home\n",
    "!WBT_PROJECT_PATH=/Users/shripal/Documents/Study/PathFinding/small_world/"
   ]
  },
  {
   "cell_type": "code",
   "execution_count": null,
   "metadata": {},
   "outputs": [],
   "source": [
    "!cd $WEBOTS_HOME/Contents/Resources/sumo_exporter\n",
    "\n",
    "# ensure referenced python package is from within expected env \n",
    "!python exporter.py --input=$WBT_PROJECT_PATH/worlds/small_world.wbt --output=$WBT_PROJECT_PATH/worlds/small_world_net\n",
    "\n",
    "!$SUMO_HOME/bin/netconvert --node-files=$WBT_PROJECT_PATH/worlds/small_world_net/sumo.nod.xml --edge-files=$WBT_PROJECT_PATH/worlds/small_world_net/sumo.edg.xml --output-file=$WBT_PROJECT_PATH/worlds/small_world_net/sumo.net.xml"
   ]
  },
  {
   "cell_type": "code",
   "execution_count": null,
   "metadata": {},
   "outputs": [],
   "source": []
  },
  {
   "cell_type": "code",
   "execution_count": null,
   "metadata": {},
   "outputs": [],
   "source": []
  },
  {
   "cell_type": "code",
   "execution_count": null,
   "metadata": {},
   "outputs": [],
   "source": [
    "!$SUMO_HOME/bin/netconvert --node-files=$WBT_PROJECT_PATH/worlds/small_world_net/sumo.nod.xml --edge-files=$WBT_PROJECT_PATH/worlds/small_world_net/sumo.edg.xml --output-file=$WBT_PROJECT_PATH/worlds/small_world_net/sumo.net.xml\n",
    "\n"
   ]
  },
  {
   "cell_type": "markdown",
   "metadata": {},
   "source": [
    "# other sumo commands from CLI\n",
    "\n",
    "$SUMO_HOME/bin/netedit $WBT_PROJECT_PATH/worlds/myMap_net/sumo.net.xml\n",
    "\n",
    "\n",
    "python $SUMO_HOME/tools/randomTrips.py \n",
    "    -n $WBT_PROJECT_PATH/worlds/myMap_net/sumo.net.xml \n",
    "    -o $WBT_PROJECT_PATH/worlds/myMap_net/sumo.trip.xml\n",
    "\n",
    "$SUMO_HOME/bin/duarouter \n",
    "    --trip-files $WBT_PROJECT_PATH/worlds/myMap_net/sumo.trip.xml \n",
    "    --net-file $WBT_PROJECT_PATH/worlds/myMap_net/sumo.net.xml \n",
    "    --output-file $WBT_PROJECT_PATH/worlds/myMap_net/sumo.rou.xml --ignore-errors true\n",
    "\n",
    "\n",
    "\n",
    "$SUMO_HOME/bin/duarouter \n",
    "    --flows $WBT_PROJECT_PATH/worlds/myMap_net/sumo.flow.xml \n",
    "    --net-file $WBT_PROJECT_PATH/worlds/myMap_net/sumo.net.xml \n",
    "    --output-file $WBT_PROJECT_PATH/worlds/myMap_net/sumo.rou.xml\n",
    "\n"
   ]
  },
  {
   "cell_type": "code",
   "execution_count": null,
   "metadata": {},
   "outputs": [],
   "source": []
  }
 ],
 "metadata": {
  "kernelspec": {
   "display_name": "myml",
   "language": "python",
   "name": "python3"
  },
  "language_info": {
   "codemirror_mode": {
    "name": "ipython",
    "version": 3
   },
   "file_extension": ".py",
   "mimetype": "text/x-python",
   "name": "python",
   "nbconvert_exporter": "python",
   "pygments_lexer": "ipython3",
   "version": "3.11.0"
  }
 },
 "nbformat": 4,
 "nbformat_minor": 2
}
